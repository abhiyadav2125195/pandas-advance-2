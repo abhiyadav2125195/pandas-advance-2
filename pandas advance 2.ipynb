{
 "cells": [
  {
   "cell_type": "markdown",
   "id": "5662338b-9cdc-444d-ad46-01f4f7d0e30a",
   "metadata": {},
   "source": [
    "# Q1. Write a code to print the data present in the second row of the dataframe, df."
   ]
  },
  {
   "cell_type": "code",
   "execution_count": 3,
   "id": "a5b2fc49-8f12-453c-86bf-04f9994bb077",
   "metadata": {},
   "outputs": [
    {
     "name": "stdout",
     "output_type": "stream",
     "text": [
      "course_name    Machine Learning\n",
      ":duration                     3\n",
      "Name: 1, dtype: object\n"
     ]
    }
   ],
   "source": [
    "import pandas as pd\n",
    "course_name = [\"Data Science\", \"Machine Learning\", \"Big Data\", \"Data Engineer\"]\n",
    "duration = [2,3,6,4]\n",
    "df = pd.DataFrame(data = {\"course_name\" : course_name, \":duration\" : duration})\n",
    "second_row = df.iloc[1]\n",
    "print(second_row)"
   ]
  },
  {
   "cell_type": "markdown",
   "id": "2658442e-b2d5-4a79-817c-f70a2d3b36fc",
   "metadata": {},
   "source": [
    "# Q2. What is the difference between the functions loc and iloc in pandas.DataFrame?"
   ]
  },
  {
   "cell_type": "markdown",
   "id": "b6d693fa-a444-4b55-82db-227609d17c7f",
   "metadata": {},
   "source": [
    "Key Differences:\n",
    "\n",
    "loc uses labels (explicit names) for indexing, while iloc uses integer positions (0-based index).\n",
    "With loc, you can use labels for both rows and columns, and you can specify multiple rows/columns using slices or lists of labels.\n",
    "With iloc, you can use integers for both row and column positions, and you can specify multiple rows/columns using slices or lists of integers.\n",
    "loc is inclusive at both ends when using slices, meaning it includes both the start and end labels. iloc follows Python's standard slicing behavior and is exclusive at the end (includes the start position but excludes the end position).\n",
    "In summary, loc is used for label-based indexing, and iloc is used for integer-location based indexing. Depending on your specific use case, you would choose between loc and iloc to access and manipulate data in a Pandas DataFrame."
   ]
  },
  {
   "cell_type": "code",
   "execution_count": 25,
   "id": "3123a4ed-9221-4108-9996-5548a277c1c4",
   "metadata": {},
   "outputs": [],
   "source": [
    "# Q3. Reindex the given dataframe using a variable, reindex = [3,0,1,2] and store it in the variable, new_df\n",
    "# then find the output for both new_df.loc[2] and new_df.iloc[2].\n",
    "# Did you observe any difference in both the outputs? If so then explain it.\n",
    "# Consider the below code to answer further questions:\n",
    "# import pandas as pd\n",
    "# import numpy as np\n",
    "# columns = ['column_1', 'column_2', 'column_3', 'column_4', 'column_5', 'column_6']\n",
    "# indices = [1,2,3,4,5,6]\n",
    "# #Creating a dataframe:\n",
    "# df1 = pd.DataFrame(np.random.rand(6,6), columns = columns, index = indices)"
   ]
  },
  {
   "cell_type": "code",
   "execution_count": 5,
   "id": "d037d997-6d28-49de-b6b4-7313ec006a61",
   "metadata": {},
   "outputs": [],
   "source": [
    "data = [3,0,1,2]\n",
    "df = pd.DataFrame(data)"
   ]
  },
  {
   "cell_type": "code",
   "execution_count": 23,
   "id": "525dd649-8d01-4f40-887e-569ee6e00117",
   "metadata": {},
   "outputs": [],
   "source": [
    "new_df = df.reindex([0,1,2,3])"
   ]
  },
  {
   "cell_type": "code",
   "execution_count": 22,
   "id": "62c79a91-1817-4fca-8842-31c568877111",
   "metadata": {},
   "outputs": [
    {
     "data": {
      "text/html": [
       "<div>\n",
       "<style scoped>\n",
       "    .dataframe tbody tr th:only-of-type {\n",
       "        vertical-align: middle;\n",
       "    }\n",
       "\n",
       "    .dataframe tbody tr th {\n",
       "        vertical-align: top;\n",
       "    }\n",
       "\n",
       "    .dataframe thead th {\n",
       "        text-align: right;\n",
       "    }\n",
       "</style>\n",
       "<table border=\"1\" class=\"dataframe\">\n",
       "  <thead>\n",
       "    <tr style=\"text-align: right;\">\n",
       "      <th></th>\n",
       "      <th>0</th>\n",
       "    </tr>\n",
       "  </thead>\n",
       "  <tbody>\n",
       "    <tr>\n",
       "      <th>0</th>\n",
       "      <td>3</td>\n",
       "    </tr>\n",
       "    <tr>\n",
       "      <th>1</th>\n",
       "      <td>0</td>\n",
       "    </tr>\n",
       "    <tr>\n",
       "      <th>2</th>\n",
       "      <td>1</td>\n",
       "    </tr>\n",
       "    <tr>\n",
       "      <th>3</th>\n",
       "      <td>2</td>\n",
       "    </tr>\n",
       "  </tbody>\n",
       "</table>\n",
       "</div>"
      ],
      "text/plain": [
       "   0\n",
       "0  3\n",
       "1  0\n",
       "2  1\n",
       "3  2"
      ]
     },
     "execution_count": 22,
     "metadata": {},
     "output_type": "execute_result"
    }
   ],
   "source": [
    "new_df"
   ]
  },
  {
   "cell_type": "code",
   "execution_count": 12,
   "id": "e07eb3a1-d0a6-4bc6-b036-41790620e440",
   "metadata": {},
   "outputs": [
    {
     "data": {
      "text/plain": [
       "0    1\n",
       "Name: 2, dtype: int64"
      ]
     },
     "execution_count": 12,
     "metadata": {},
     "output_type": "execute_result"
    }
   ],
   "source": [
    "new_df.loc[2]"
   ]
  },
  {
   "cell_type": "code",
   "execution_count": 13,
   "id": "e38b05cf-eaad-49bf-85be-7dd7304f4fdf",
   "metadata": {},
   "outputs": [
    {
     "data": {
      "text/plain": [
       "0    1\n",
       "Name: 2, dtype: int64"
      ]
     },
     "execution_count": 13,
     "metadata": {},
     "output_type": "execute_result"
    }
   ],
   "source": [
    "new_df.iloc[2]"
   ]
  },
  {
   "cell_type": "markdown",
   "id": "56301887-8483-431b-8f17-d6f28936da74",
   "metadata": {},
   "source": [
    "answer is the same but iloc choice from indexing and loc choice from the name of coulmn and indexing\n"
   ]
  },
  {
   "cell_type": "markdown",
   "id": "74161042-004f-4463-b4dc-c2be5b68509c",
   "metadata": {},
   "source": [
    "# Q4. Write a code to find the following statistical measurements for the above dataframe df1:\n",
    "# (i) mean of each and every column present in the dataframe.\n",
    "# (ii) standard deviation of column, ‘column_2’"
   ]
  },
  {
   "cell_type": "code",
   "execution_count": 2,
   "id": "f143c9b1-f557-4cd7-a74b-1866b56938e0",
   "metadata": {},
   "outputs": [],
   "source": [
    "import pandas as pd\n",
    "import numpy as np\n",
    "columns = ['column_1', 'column_2', 'column_3', 'column_4', 'column_5', 'column_6']\n",
    "indices = [1,2,3,4,5,6]\n",
    "#Creating a dataframe:\n",
    "df1 = pd.DataFrame(np.random.rand(6,6), columns = columns, index = indices)"
   ]
  },
  {
   "cell_type": "code",
   "execution_count": 3,
   "id": "9b8336b1-becd-46c9-b61d-058aec1edf95",
   "metadata": {},
   "outputs": [
    {
     "data": {
      "text/plain": [
       "column_1    0.455354\n",
       "column_2    0.400861\n",
       "column_3    0.487517\n",
       "column_4    0.396307\n",
       "column_5    0.524120\n",
       "column_6    0.494057\n",
       "dtype: float64"
      ]
     },
     "execution_count": 3,
     "metadata": {},
     "output_type": "execute_result"
    }
   ],
   "source": [
    "df1.mean()\n"
   ]
  },
  {
   "cell_type": "code",
   "execution_count": 4,
   "id": "de415b2e-69f2-4f3e-a55f-edc85546cf7e",
   "metadata": {},
   "outputs": [
    {
     "data": {
      "text/plain": [
       "1    0.049062\n",
       "2    0.489207\n",
       "3    0.661285\n",
       "4    0.320004\n",
       "5    0.763854\n",
       "6    0.121752\n",
       "Name: column_2, dtype: float64"
      ]
     },
     "execution_count": 4,
     "metadata": {},
     "output_type": "execute_result"
    }
   ],
   "source": [
    "df1['column_2']"
   ]
  },
  {
   "cell_type": "markdown",
   "id": "c4231b4b-9172-4774-afad-0aba1d4ed30f",
   "metadata": {},
   "source": [
    "# Q5. Replace the data present in the second row of column, ‘column_2’ by a string variable then find the mean of column, column_2. If you are getting errors in executing it then explain why."
   ]
  },
  {
   "cell_type": "code",
   "execution_count": 14,
   "id": "f765dac5-0e53-44da-a7e2-68a25a388a88",
   "metadata": {},
   "outputs": [
    {
     "data": {
      "text/plain": [
       "0.3281907376995634"
      ]
     },
     "execution_count": 14,
     "metadata": {},
     "output_type": "execute_result"
    }
   ],
   "source": [
    "import pandas as pd\n",
    "import numpy as np\n",
    "columns = ['column_1', 'column_2', 'column_3', 'column_4', 'column_5', 'column_6']\n",
    "indices = [1,2,3,4,5,6]\n",
    "#Creating a dataframe:\n",
    "df1 = pd.DataFrame(np.random.rand(6,6), columns = columns, index = indices)\n",
    "df1['column_2'].mean()"
   ]
  },
  {
   "cell_type": "code",
   "execution_count": 16,
   "id": "c134a7bf-89ae-4958-9157-3566c2f42a82",
   "metadata": {},
   "outputs": [
    {
     "name": "stdout",
     "output_type": "stream",
     "text": [
      "   column_1         column_2  column_3  column_4  column_5  column_6\n",
      "1  0.610309         0.254858  0.472995  0.660597  0.868498  0.185400\n",
      "2  0.990384  string_variable  0.384153  0.604774  0.250626  0.637459\n",
      "3  0.719298         0.248852  0.422337  0.035809  0.696235  0.504397\n",
      "4  0.137132         0.165451  0.815102  0.654770  0.163245  0.267764\n",
      "5  0.163561         0.268911  0.419346  0.448734  0.764764  0.333704\n",
      "6  0.600571         0.830803  0.521173  0.360817  0.380243  0.973520\n"
     ]
    }
   ],
   "source": [
    "df1.at[2,'column_2'] = \"string_variable\"\n",
    "print(df1)"
   ]
  },
  {
   "cell_type": "markdown",
   "id": "7f9581a3-ce3b-4dda-9513-e111c6334774",
   "metadata": {},
   "source": [
    "# Q6. What do you understand about the windows function in pandas and list the types of windows functions?"
   ]
  },
  {
   "cell_type": "markdown",
   "id": "7ca87853-eae6-4603-9621-b41fab805d5c",
   "metadata": {},
   "source": [
    "\n",
    "In pandas, a \"window function\" (also known as a \"rolling function\" or \"moving function\") is a type of operation that operates on a sliding window of data points within a series or DataFrame. It allows you to perform calculations on a specified window of consecutive data points at a time. These functions are commonly used in time series analysis and data manipulation tasks.\n",
    "\n",
    "Window functions in pandas are applied using the .rolling() method for Series or DataFrame objects. The .rolling() method creates a rolling view of the data, and then you can apply various window functions on this view.\n",
    "\n",
    "Types of Window Functions in pandas:\n",
    "\n",
    "Moving Average: Calculates the average of a specified window of data points. Commonly used to smooth out noisy time series data.\n",
    "\n",
    "Moving Sum: Calculates the sum of a specified window of data points.\n",
    "\n",
    "Moving Minimum: Finds the minimum value within a specified window of data points.\n",
    "\n",
    "Moving Maximum: Finds the maximum value within a specified window of data points.\n",
    "\n",
    "Moving Standard Deviation: Calculates the standard deviation of a specified window of data points.\n",
    "\n",
    "Moving Variance: Calculates the variance of a specified window of data points.\n",
    "\n",
    "Moving Median: Calculates the median of a specified window of data points.\n",
    "\n",
    "Expanding: Calculates the statistic for the entire data up to that point in time"
   ]
  },
  {
   "cell_type": "markdown",
   "id": "a66db049-a420-4202-a15b-044f9951438d",
   "metadata": {},
   "source": [
    "# Q7. Write a code to print only the current month and year at the time of answering this question."
   ]
  },
  {
   "cell_type": "code",
   "execution_count": null,
   "id": "7973b4dd-0605-4299-8e79-d7080318b990",
   "metadata": {},
   "outputs": [],
   "source": [
    "import datetime\n",
    "\n",
    "# Get the current date and time\n",
    "current_datetime = datetime.datetime.now()\n",
    "\n",
    "# Extract the current month and year from the current date\n",
    "current_month = current_datetime.month\n",
    "current_year = current_datetime.year\n",
    "\n",
    "# Print the current month and year\n",
    "print(\"Current Month:\", current_month)\n",
    "print(\"Current Year:\", current_year)"
   ]
  },
  {
   "cell_type": "code",
   "execution_count": 17,
   "id": "3edaf3bb-af11-4e4c-84a0-29a695b25afc",
   "metadata": {},
   "outputs": [
    {
     "name": "stdout",
     "output_type": "stream",
     "text": [
      "2023 7\n"
     ]
    }
   ],
   "source": [
    "import  datetime\n",
    "current_datetime = datetime.datetime.now()\n",
    "\n",
    "current_month = current_datetime.month\n",
    "current_year = current_datetime.year\n",
    "print(current_year , current_month )"
   ]
  },
  {
   "cell_type": "markdown",
   "id": "705a4b63-ff8f-44e9-8fb8-e1cdcc987528",
   "metadata": {},
   "source": [
    "# Q8. Write a Python program that takes in two dates as input (in the format YYYY-MM-DD) and calculates the difference between them in days, hours, and minutes using Pandas time delta. The program should prompt the user to enter the dates and display the result."
   ]
  },
  {
   "cell_type": "code",
   "execution_count": null,
   "id": "a45fcd12-af47-45f0-a90b-6edea9ba5504",
   "metadata": {},
   "outputs": [],
   "source": []
  }
 ],
 "metadata": {
  "kernelspec": {
   "display_name": "Python 3 (ipykernel)",
   "language": "python",
   "name": "python3"
  },
  "language_info": {
   "codemirror_mode": {
    "name": "ipython",
    "version": 3
   },
   "file_extension": ".py",
   "mimetype": "text/x-python",
   "name": "python",
   "nbconvert_exporter": "python",
   "pygments_lexer": "ipython3",
   "version": "3.10.8"
  }
 },
 "nbformat": 4,
 "nbformat_minor": 5
}
